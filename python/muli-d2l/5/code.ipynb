{
 "cells": [
  {
   "cell_type": "code",
   "execution_count": 11,
   "metadata": {},
   "outputs": [
    {
     "data": {
      "text/plain": [
       "(tensor([0., 1., 2., 3.]), tensor([1., 1., 1., 1.]), tensor(6.), tensor(6.))"
      ]
     },
     "execution_count": 11,
     "metadata": {},
     "output_type": "execute_result"
    }
   ],
   "source": [
    "import torch\n",
    "x = torch.arange(4, dtype=torch.float32)\n",
    "y = torch.ones(4, dtype=torch.float32)\n",
    "x, y, torch.dot(x, y), sum(x*y)\n"
   ]
  },
  {
   "cell_type": "code",
   "execution_count": 12,
   "metadata": {},
   "outputs": [
    {
     "data": {
      "text/plain": [
       "(tensor([[ 0,  1,  2,  3],\n",
       "         [ 4,  5,  6,  7],\n",
       "         [ 8,  9, 10, 11]]),\n",
       " tensor([0, 1, 2, 3]),\n",
       " tensor([[ 0,  1,  4,  9],\n",
       "         [ 0,  5, 12, 21],\n",
       "         [ 0,  9, 20, 33]]),\n",
       " tensor([14, 38, 62]))"
      ]
     },
     "execution_count": 12,
     "metadata": {},
     "output_type": "execute_result"
    }
   ],
   "source": [
    "a = torch.arange(12).reshape(3, 4)\n",
    "b = torch.arange(4)\n",
    "a, b, a*b, torch.mv(a, b)\n"
   ]
  },
  {
   "cell_type": "code",
   "execution_count": 13,
   "metadata": {},
   "outputs": [
    {
     "data": {
      "text/plain": [
       "tensor([[ 42.,  48.,  54.],\n",
       "        [114., 136., 158.],\n",
       "        [186., 224., 262.]])"
      ]
     },
     "execution_count": 13,
     "metadata": {},
     "output_type": "execute_result"
    }
   ],
   "source": [
    "x = torch.arange(12,dtype=torch.float32).reshape(3,4)\n",
    "y = torch.arange(12,dtype=torch.float32).reshape(4,3)\n",
    "torch.mm(x,y)"
   ]
  },
  {
   "cell_type": "code",
   "execution_count": 21,
   "metadata": {},
   "outputs": [
    {
     "name": "stdout",
     "output_type": "stream",
     "text": [
      "tensor(22.4944)\n",
      "tensor(66.)\n",
      "费罗贝尼乌斯范数： tensor(66.)\n"
     ]
    }
   ],
   "source": [
    "\n",
    "# L2 范数是向量元素平方和的平方根\n",
    "print(torch.norm(torch.arange(12,dtype=torch.float32)))\n",
    "# L1 范数表示向量元素的绝对值之和\n",
    "print(torch.abs(torch.arange(12,dtype=torch.float32)).sum())\n",
    "# 矩阵的费罗贝尼乌斯范数是矩阵元素的平方和的平方根\n",
    "print(\"费罗贝尼乌斯范数：\",torch.abs(torch.arange(12,dtype=torch.float32).reshape(3,4)).sum())"
   ]
  }
 ],
 "metadata": {
  "interpreter": {
   "hash": "871a73dc6a7b2d694ebe918c1a110d30546e9456898afbe4e1fb218f333bfcb5"
  },
  "kernelspec": {
   "display_name": "Python 3.9.1 64-bit (system)",
   "name": "python3"
  },
  "language_info": {
   "codemirror_mode": {
    "name": "ipython",
    "version": 3
   },
   "file_extension": ".py",
   "mimetype": "text/x-python",
   "name": "python",
   "nbconvert_exporter": "python",
   "pygments_lexer": "ipython3",
   "version": "3.9.1"
  },
  "orig_nbformat": 4
 },
 "nbformat": 4,
 "nbformat_minor": 2
}
